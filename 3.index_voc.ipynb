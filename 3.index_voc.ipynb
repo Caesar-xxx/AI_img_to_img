{
 "cells": [
  {
   "cell_type": "code",
   "execution_count": 1,
   "metadata": {},
   "outputs": [],
   "source": [
    "# 为VOC文件夹下的图片提取特征并建立索引\n",
    "# 1.遍历图片\n",
    "# 2.提取特征\n",
    "# 3.建立索引\n",
    "# 4.存储文件名与索引匹配关系\n",
    "# 5.保存索引到磁盘"
   ]
  },
  {
   "cell_type": "code",
   "execution_count": 2,
   "metadata": {},
   "outputs": [],
   "source": [
    "# 导入相关包\n",
    "import cv2\n",
    "import numpy as np\n",
    "import matplotlib.pyplot as plt\n",
    "import glob"
   ]
  },
  {
   "cell_type": "code",
   "execution_count": 3,
   "metadata": {},
   "outputs": [],
   "source": [
    "# 获取所有图片的路径\n",
    "image_list =  glob.glob('VOCdevkit/VOC2012/JPEGImages/*.jpg')"
   ]
  },
  {
   "cell_type": "code",
   "execution_count": 4,
   "metadata": {},
   "outputs": [
    {
     "data": {
      "text/plain": [
       "17125"
      ]
     },
     "execution_count": 4,
     "metadata": {},
     "output_type": "execute_result"
    }
   ],
   "source": [
    "len(image_list)"
   ]
  },
  {
   "cell_type": "code",
   "execution_count": 13,
   "metadata": {},
   "outputs": [],
   "source": [
    "# 导入自定义特征提取类\n",
    "from feature_extract import FeatureExtract\n",
    "# 实例化\n",
    "feat = FeatureExtract()\n",
    "import os\n",
    "import tqdm"
   ]
  },
  {
   "cell_type": "code",
   "execution_count": 15,
   "metadata": {},
   "outputs": [
    {
     "name": "stderr",
     "output_type": "stream",
     "text": [
      "100%|████████████████████████████████████████████████████████████████████████████████| 100/100 [00:22<00:00,  4.47it/s]\n"
     ]
    }
   ],
   "source": [
    "# 遍历图片，获取特征\n",
    "# 特征列表\n",
    "feat_list = []\n",
    "# 文件名列表\n",
    "name_list = []\n",
    "for img_file in tqdm.tqdm(image_list) :\n",
    "    # 提取特征\n",
    "    feat_vec = feat.extractFeat(img_file)\n",
    "    # 将特征加入列表\n",
    "    feat_list.append(feat_vec)\n",
    "    # 解析文件名\n",
    "    name = img_file.split(os.sep)[-1].split('.')[0]\n",
    "    # 将文件名加入列表\n",
    "    name_list.append(name)\n",
    "\n",
    "    # break "
   ]
  },
  {
   "cell_type": "code",
   "execution_count": 20,
   "metadata": {},
   "outputs": [],
   "source": [
    "# 将文件名列表存入Numpy\n",
    "name_list = np.array(name_list)\n",
    "np.save('./VOCdevkit/name_list.npy',name_list)"
   ]
  },
  {
   "cell_type": "code",
   "execution_count": 8,
   "metadata": {},
   "outputs": [
    {
     "data": {
      "text/plain": [
       "'\\\\'"
      ]
     },
     "execution_count": 8,
     "metadata": {},
     "output_type": "execute_result"
    }
   ],
   "source": [
    "/"
   ]
  },
  {
   "cell_type": "code",
   "execution_count": 21,
   "metadata": {},
   "outputs": [],
   "source": [
    "# 将特征存入faiss索引\n",
    "import faiss"
   ]
  },
  {
   "cell_type": "code",
   "execution_count": 24,
   "metadata": {},
   "outputs": [],
   "source": [
    "# 创建索引\n",
    "index = faiss.IndexFlatL2(512)"
   ]
  },
  {
   "cell_type": "code",
   "execution_count": 25,
   "metadata": {},
   "outputs": [],
   "source": [
    "#feat_list转为numpy数组\n",
    "feat_list = np.array(feat_list)\n",
    "# 将特征添加到索引中\n",
    "index.add(feat_list)"
   ]
  },
  {
   "cell_type": "code",
   "execution_count": 26,
   "metadata": {},
   "outputs": [
    {
     "data": {
      "text/plain": [
       "100"
      ]
     },
     "execution_count": 26,
     "metadata": {},
     "output_type": "execute_result"
    }
   ],
   "source": [
    "# 查看索引大小\n",
    "index.ntotal"
   ]
  },
  {
   "cell_type": "code",
   "execution_count": 27,
   "metadata": {},
   "outputs": [],
   "source": [
    "# 索引文件存入磁盘\n",
    "faiss.write_index(index, './VOCdevkit/voc.index')"
   ]
  },
  {
   "cell_type": "code",
   "execution_count": 28,
   "metadata": {},
   "outputs": [],
   "source": [
    "# 简单测试一下\n",
    "k = 4\n",
    "D,I = index.search(feat_list[:4],k)"
   ]
  },
  {
   "cell_type": "code",
   "execution_count": 29,
   "metadata": {},
   "outputs": [
    {
     "data": {
      "text/plain": [
       "array([[ 0, 66, 21, 98],\n",
       "       [ 1,  2, 49,  9],\n",
       "       [ 2, 17, 51, 78],\n",
       "       [ 3, 13,  8, 69]], dtype=int64)"
      ]
     },
     "execution_count": 29,
     "metadata": {},
     "output_type": "execute_result"
    }
   ],
   "source": [
    "I"
   ]
  },
  {
   "cell_type": "code",
   "execution_count": null,
   "metadata": {},
   "outputs": [],
   "source": []
  }
 ],
 "metadata": {
  "kernelspec": {
   "display_name": "Python 3 (ipykernel)",
   "language": "python",
   "name": "python3"
  },
  "language_info": {
   "codemirror_mode": {
    "name": "ipython",
    "version": 3
   },
   "file_extension": ".py",
   "mimetype": "text/x-python",
   "name": "python",
   "nbconvert_exporter": "python",
   "pygments_lexer": "ipython3",
   "version": "3.8.13"
  },
  "orig_nbformat": 4
 },
 "nbformat": 4,
 "nbformat_minor": 2
}
