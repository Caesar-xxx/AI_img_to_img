{
 "cells": [
  {
   "cell_type": "code",
   "execution_count": 1,
   "id": "b7d54742-5950-46e7-89eb-e40fb6dd3cb7",
   "metadata": {},
   "outputs": [],
   "source": [
    "# 测试tf服务API"
   ]
  },
  {
   "cell_type": "code",
   "execution_count": 10,
   "id": "e8007925-3204-4069-b450-5e09d2cd2db7",
   "metadata": {},
   "outputs": [],
   "source": [
    "import requests\n",
    "import tensorflow as tf\n",
    "import numpy as np\n",
    "from tensorflow.keras.preprocessing import image\n",
    "# process_input\n",
    "from tensorflow.keras.applications.vgg16 import preprocess_input"
   ]
  },
  {
   "cell_type": "code",
   "execution_count": 11,
   "id": "d0448626-2a04-46f2-ae95-8c57a659a3cd",
   "metadata": {},
   "outputs": [],
   "source": [
    "# 图片预处理\n",
    "def imgProcess(img_path):\n",
    "    img = image.load_img(img_path, target_size=(224, 224))\n",
    "    x = image.img_to_array(img)\n",
    "    x = np.expand_dims(x, axis=0)\n",
    "    x = preprocess_input(x)\n",
    "    return x"
   ]
  },
  {
   "cell_type": "code",
   "execution_count": 12,
   "id": "ba59d9d2-b5c2-425e-a3ff-d07de96a9b9b",
   "metadata": {},
   "outputs": [],
   "source": [
    "def getFeature(imageFile):\n",
    "    '''\n",
    "    获取图片特征\n",
    "    '''\n",
    "    image = imgProcess(imageFile)\n",
    "\n",
    "    image_tensor = image.tolist()\n",
    "    url = \"http://localhost:8501/v1/models/vgg16:predict\"\n",
    "    json_data = {\n",
    "        \"instances\": image_tensor\n",
    "    }\n",
    "    # 发送请求\n",
    "    response = requests.post(url, json=json_data)\n",
    "    # 解析结果\n",
    "    result = np.array(response.json()['predictions'])[0]\n",
    "    # L2归一化\n",
    "    post_feat = result/np.linalg.norm(result)\n",
    "    \n",
    "    return post_feat"
   ]
  },
  {
   "cell_type": "code",
   "execution_count": 13,
   "id": "88eaf766-9077-4b84-a5be-bc8df24a9889",
   "metadata": {},
   "outputs": [],
   "source": [
    "# 挑选一张图\n",
    "test_img = 'images/test (11).jpg'"
   ]
  },
  {
   "cell_type": "code",
   "execution_count": 14,
   "id": "17b43fed-e0b4-4f89-be28-ab03f1b5840d",
   "metadata": {},
   "outputs": [],
   "source": [
    "# 请求推理\n",
    "post_feat = getFeature(test_img)"
   ]
  },
  {
   "cell_type": "code",
   "execution_count": 15,
   "id": "2e321ff6-dbdc-41e2-95f5-6f967e3aecf3",
   "metadata": {},
   "outputs": [
    {
     "data": {
      "text/plain": [
       "(512,)"
      ]
     },
     "execution_count": 15,
     "metadata": {},
     "output_type": "execute_result"
    }
   ],
   "source": [
    "post_feat.shape"
   ]
  },
  {
   "cell_type": "code",
   "execution_count": 16,
   "id": "2896a99d-d6fa-4734-8c54-1bad6b7fbac6",
   "metadata": {},
   "outputs": [],
   "source": [
    "# post_feat"
   ]
  },
  {
   "cell_type": "code",
   "execution_count": 17,
   "id": "29c97a48-0bb0-4926-9252-8f575ad332f5",
   "metadata": {},
   "outputs": [],
   "source": [
    "# 对比本地类提取方法"
   ]
  },
  {
   "cell_type": "code",
   "execution_count": 18,
   "id": "99ab3f67-22ec-48a7-b873-3bc05e449e60",
   "metadata": {},
   "outputs": [],
   "source": [
    "# 导入特征提取类\n",
    "from feature_extract import FeatureExtract"
   ]
  },
  {
   "cell_type": "code",
   "execution_count": 19,
   "id": "3bf250c5-4fa3-4258-bf24-449787a7facf",
   "metadata": {},
   "outputs": [],
   "source": [
    "# 实例化\n",
    "fe = FeatureExtract()"
   ]
  },
  {
   "cell_type": "code",
   "execution_count": 20,
   "id": "e9e78f51-8959-4c12-9c53-abf178324880",
   "metadata": {},
   "outputs": [],
   "source": [
    "local_feat = fe.extractFeat('images/test (11).jpg')"
   ]
  },
  {
   "cell_type": "code",
   "execution_count": 21,
   "id": "396c64a0-fb16-4b0b-a10f-d93f369fe5f1",
   "metadata": {},
   "outputs": [
    {
     "data": {
      "text/plain": [
       "(512,)"
      ]
     },
     "execution_count": 21,
     "metadata": {},
     "output_type": "execute_result"
    }
   ],
   "source": [
    "local_feat.shape"
   ]
  },
  {
   "cell_type": "code",
   "execution_count": 22,
   "id": "21dfd8af-ac54-41d7-a33b-1d70bd1a7133",
   "metadata": {},
   "outputs": [],
   "source": [
    "import numpy as np"
   ]
  },
  {
   "cell_type": "code",
   "execution_count": 23,
   "id": "9d46ea48-ab75-42e3-b132-ea8cdcc22626",
   "metadata": {},
   "outputs": [
    {
     "data": {
      "text/plain": [
       "3.8528405180215375e-07"
      ]
     },
     "execution_count": 23,
     "metadata": {},
     "output_type": "execute_result"
    }
   ],
   "source": [
    "np.linalg.norm(( post_feat- local_feat ))"
   ]
  },
  {
   "cell_type": "code",
   "execution_count": null,
   "id": "0888be9b-5eb9-4380-9d68-b77172b9817e",
   "metadata": {},
   "outputs": [],
   "source": []
  },
  {
   "cell_type": "code",
   "execution_count": null,
   "id": "30134dbc-93d9-4002-bde8-47a3ae0196b2",
   "metadata": {},
   "outputs": [],
   "source": []
  },
  {
   "cell_type": "code",
   "execution_count": null,
   "id": "644b6c64-4488-4dbf-9178-fb21a41ace35",
   "metadata": {},
   "outputs": [],
   "source": []
  }
 ],
 "metadata": {
  "kernelspec": {
   "display_name": "Python 3 (ipykernel)",
   "language": "python",
   "name": "python3"
  },
  "language_info": {
   "codemirror_mode": {
    "name": "ipython",
    "version": 3
   },
   "file_extension": ".py",
   "mimetype": "text/x-python",
   "name": "python",
   "nbconvert_exporter": "python",
   "pygments_lexer": "ipython3",
   "version": "3.8.19"
  }
 },
 "nbformat": 4,
 "nbformat_minor": 5
}
